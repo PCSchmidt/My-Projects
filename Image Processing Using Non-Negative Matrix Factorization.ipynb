{
 "cells": [
  {
   "cell_type": "markdown",
   "metadata": {},
   "source": [
    "### Image Processing Using Non-Negative Matrix Factorization\n",
    "\n",
    "#### Math 686, Applied Linear Algebra\n",
    "#### Dr. Tatyana Sorokina\n",
    "\n",
    "#### Authors: Chris Schmidt, Steven White"
   ]
  },
  {
   "cell_type": "markdown",
   "metadata": {},
   "source": [
    "#### NMF? WTF!?!?!\n",
    "\n",
    "Non-negative matrix factorization is a dimensionality reduction technique that use linear algebra matrix factorization to......."
   ]
  },
  {
   "cell_type": "code",
   "execution_count": null,
   "metadata": {},
   "outputs": [],
   "source": []
  }
 ],
 "metadata": {
  "kernelspec": {
   "display_name": "Python 3",
   "language": "python",
   "name": "python3"
  },
  "language_info": {
   "codemirror_mode": {
    "name": "ipython",
    "version": 3
   },
   "file_extension": ".py",
   "mimetype": "text/x-python",
   "name": "python",
   "nbconvert_exporter": "python",
   "pygments_lexer": "ipython3",
   "version": "3.7.4"
  }
 },
 "nbformat": 4,
 "nbformat_minor": 2
}
